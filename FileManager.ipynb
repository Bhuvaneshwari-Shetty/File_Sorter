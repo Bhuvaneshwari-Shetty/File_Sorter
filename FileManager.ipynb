{
 "cells": [
  {
   "cell_type": "code",
   "execution_count": 10,
   "id": "cc6f60f5-2ff4-49b7-acab-05109e26c6ec",
   "metadata": {},
   "outputs": [],
   "source": [
    "import os,shutil\n"
   ]
  },
  {
   "cell_type": "code",
   "execution_count": 7,
   "id": "a66120be-8aba-4f80-b21f-bae73bdb934a",
   "metadata": {},
   "outputs": [],
   "source": [
    "path=r\"C:/Users/bhuvi/OneDrive/Desktop/intership/Project/.ipynb_checkpoints/\""
   ]
  },
  {
   "cell_type": "code",
   "execution_count": 11,
   "id": "6b321bf1-4d18-4625-a0be-fee3a711b0a5",
   "metadata": {},
   "outputs": [],
   "source": [
    "#os.listdir(path)\n",
    "file_name=os.listdir(path)"
   ]
  },
  {
   "cell_type": "code",
   "execution_count": 12,
   "id": "9bf83470-201c-4166-a80d-a1d67cb01e45",
   "metadata": {},
   "outputs": [],
   "source": [
    "folder_names=[\"pdf files\",\"docx files\",\"txt files\",\"jpg files\"]\n",
    "for loop in range (0,4):\n",
    "    if not os.path.exists(path + folder_names[loop]): #if folder names not exists then create \n",
    "        os.makedirs(path+ folder_names[loop])"
   ]
  },
  {
   "cell_type": "code",
   "execution_count": 14,
   "id": "568007ca-15b4-4f41-9a30-65659c786a73",
   "metadata": {},
   "outputs": [
    {
     "name": "stdout",
     "output_type": "stream",
     "text": [
      "This type folder not exists\n"
     ]
    }
   ],
   "source": [
    "for file in file_name: #for each file,\n",
    "       #present in txt but not in it's folder then move it to it's folder\n",
    "    if \".txt\" in file and not os.path.exists(path +\"txt files/\" + file):\n",
    "        shutil.move(path + file, path +\"txt files/\" + file)\n",
    "\n",
    "    elif \".pdf\" in file and not os.path.exists(path +\"pdf files/\" + file):\n",
    "        shutil.move(path + file, path +\"pdf files/\" + file)\n",
    "\n",
    "    elif \".jpg\" in file and not os.path.exists(path +\"jpg files/\" + file):\n",
    "        shutil.move(path + file, path +\"jpg files/\" + file)\n",
    "\n",
    "    elif \".docx\" in file and not os.path.exists(path +\"docx files/\" + file):\n",
    "        shutil.move(path + file, path +\"docx files/\" + file)\n",
    "else:\n",
    "    print(\"This type folder not exists\")\n",
    "    "
   ]
  },
  {
   "cell_type": "code",
   "execution_count": null,
   "id": "376a1da9-3eeb-4a51-8d02-c99401fa16cd",
   "metadata": {},
   "outputs": [],
   "source": []
  }
 ],
 "metadata": {
  "kernelspec": {
   "display_name": "Python 3 (ipykernel)",
   "language": "python",
   "name": "python3"
  },
  "language_info": {
   "codemirror_mode": {
    "name": "ipython",
    "version": 3
   },
   "file_extension": ".py",
   "mimetype": "text/x-python",
   "name": "python",
   "nbconvert_exporter": "python",
   "pygments_lexer": "ipython3",
   "version": "3.9.18"
  }
 },
 "nbformat": 4,
 "nbformat_minor": 5
}
